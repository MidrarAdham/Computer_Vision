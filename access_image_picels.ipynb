{
 "cells": [
  {
   "cell_type": "markdown",
   "metadata": {},
   "source": [
    "### Accessing and modifying pixels values"
   ]
  },
  {
   "cell_type": "code",
   "execution_count": 9,
   "metadata": {},
   "outputs": [],
   "source": [
    "import numpy as np\n",
    "import cv2 as cv"
   ]
  },
  {
   "cell_type": "code",
   "execution_count": 10,
   "metadata": {},
   "outputs": [],
   "source": [
    "img = cv.imread('./sample_data/messi5.jpg')"
   ]
  },
  {
   "cell_type": "code",
   "execution_count": 11,
   "metadata": {},
   "outputs": [],
   "source": [
    "def show_image(img):\n",
    "    cv.imshow('Leo Messi',img)\n",
    "    cv.waitKey(0)\n",
    "    cv.destroyAllWindows()"
   ]
  },
  {
   "cell_type": "markdown",
   "metadata": {},
   "source": [
    "Accessing a pixel value but its row and column coordinates. For BGR image, it returns an array of Blue, Green, and Red values.\n",
    "However, a grayscale image, the intensity is returned."
   ]
  },
  {
   "cell_type": "code",
   "execution_count": 12,
   "metadata": {},
   "outputs": [],
   "source": [
    "pixel = img[100,100]\n",
    "# Note that the pixel returns a 1x3 array. Each item represents the [BGR] color scheme (i.e [B G R])."
   ]
  },
  {
   "cell_type": "markdown",
   "metadata": {},
   "source": [
    "What if we want to access only one of the scales in each pixel?\n",
    "- Access Blue scale in a given pixel:"
   ]
  },
  {
   "cell_type": "code",
   "execution_count": 13,
   "metadata": {},
   "outputs": [],
   "source": [
    "blue = img[100,100,0]\n",
    "# Extracting the blue scale out of the pixel of the given image could be also done as:\n",
    "pixel = img[100,100] # Pixel on 100,100 coordinates.\n",
    "pixel = pixel[0]"
   ]
  },
  {
   "cell_type": "markdown",
   "metadata": {},
   "source": [
    "        - we can modify the color scale for the given pixel too. Check this out:"
   ]
  },
  {
   "cell_type": "code",
   "execution_count": 14,
   "metadata": {},
   "outputs": [
    {
     "data": {
      "text/plain": [
       "\"\\n# Access the color scale (BGR == [0 1 2]) of the pixel and choose the red scale (2):\\ncolor_scale = img.item(10,10,2)\\nprint('Before changing the pixel color scale: ', color_scale)\\n# Now let's change the red scale of the pixel\\nmodified = img.itemset((10,10,2),100)\\n# Now re-pick the same pixel again:\\ncolor_scale = img.item(10,10,2)\\nprint('After changing the pixel color scale: ', color_scale)\\n\""
      ]
     },
     "execution_count": 14,
     "metadata": {},
     "output_type": "execute_result"
    }
   ],
   "source": [
    "'''\n",
    "# Access the color scale (BGR == [0 1 2]) of the pixel and choose the red scale (2):\n",
    "color_scale = img.item(10,10,2)\n",
    "print('Before changing the pixel color scale: ', color_scale)\n",
    "# Now let's change the red scale of the pixel\n",
    "modified = img.itemset((10,10,2),100)\n",
    "# Now re-pick the same pixel again:\n",
    "color_scale = img.item(10,10,2)\n",
    "print('After changing the pixel color scale: ', color_scale)\n",
    "'''"
   ]
  },
  {
   "cell_type": "markdown",
   "metadata": {},
   "source": [
    "### Image Properties:"
   ]
  },
  {
   "cell_type": "code",
   "execution_count": 15,
   "metadata": {},
   "outputs": [],
   "source": [
    "# Check image size:\n",
    "img_size = img.size\n",
    "\n",
    "# Check img data type:\n",
    "img_dtype = img.dtype"
   ]
  },
  {
   "cell_type": "markdown",
   "metadata": {},
   "source": [
    "- selecting items within an image. The documentation has a good introduction in this matter. I copied the following text from there:\n",
    "```\n",
    "Sometimes, you will have to play with certain regions of images. For eye detection in images, first face detection is done over the entire image. When a face is obtained, we select the face region alone and search for eyes inside it instead of searching the whole image. It improves accuracy (because eyes are always on faces :D ) and performance (because we search in a small area).\n",
    "```"
   ]
  },
  {
   "cell_type": "code",
   "execution_count": 17,
   "metadata": {},
   "outputs": [
    {
     "ename": "IndexError",
     "evalue": "index 160 is out of bounds for axis 2 with size 3",
     "output_type": "error",
     "traceback": [
      "\u001b[0;31m---------------------------------------------------------------------------\u001b[0m",
      "\u001b[0;31mIndexError\u001b[0m                                Traceback (most recent call last)",
      "Cell \u001b[0;32mIn[17], line 5\u001b[0m\n\u001b[1;32m      1\u001b[0m \u001b[38;5;66;03m# Yeah, this is not working for some reason!\u001b[39;00m\n\u001b[1;32m      2\u001b[0m \n\u001b[1;32m      3\u001b[0m \u001b[38;5;66;03m# Select the ball in the image:\u001b[39;00m\n\u001b[1;32m      4\u001b[0m ball \u001b[38;5;241m=\u001b[39m img[\u001b[38;5;241m280\u001b[39m:\u001b[38;5;241m340\u001b[39m, \u001b[38;5;241m330\u001b[39m:\u001b[38;5;241m390\u001b[39m]\n\u001b[0;32m----> 5\u001b[0m \u001b[43mimg\u001b[49m\u001b[43m[\u001b[49m\u001b[38;5;241;43m273\u001b[39;49m\u001b[43m:\u001b[49m\u001b[38;5;241;43m333\u001b[39;49m\u001b[43m,\u001b[49m\u001b[43m \u001b[49m\u001b[38;5;241;43m100\u001b[39;49m\u001b[43m,\u001b[49m\u001b[38;5;241;43m160\u001b[39;49m\u001b[43m]\u001b[49m \u001b[38;5;241m=\u001b[39m ball\n",
      "\u001b[0;31mIndexError\u001b[0m: index 160 is out of bounds for axis 2 with size 3"
     ]
    }
   ],
   "source": [
    "# Yeah, this is not working for some reason!\n",
    "\n",
    "# Select the ball in the image:\n",
    "ball = img[280:340, 330:390]\n",
    "img[273:333, 100,160] = ball\n"
   ]
  }
 ],
 "metadata": {
  "kernelspec": {
   "display_name": "Python 3.9.6 64-bit",
   "language": "python",
   "name": "python3"
  },
  "language_info": {
   "codemirror_mode": {
    "name": "ipython",
    "version": 3
   },
   "file_extension": ".py",
   "mimetype": "text/x-python",
   "name": "python",
   "nbconvert_exporter": "python",
   "pygments_lexer": "ipython3",
   "version": "3.9.6"
  },
  "orig_nbformat": 4,
  "vscode": {
   "interpreter": {
    "hash": "31f2aee4e71d21fbe5cf8b01ff0e069b9275f58929596ceb00d14d90e3e16cd6"
   }
  }
 },
 "nbformat": 4,
 "nbformat_minor": 2
}
