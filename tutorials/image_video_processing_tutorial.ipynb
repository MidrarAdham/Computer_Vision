{
 "cells": [
  {
   "cell_type": "code",
   "execution_count": null,
   "metadata": {},
   "outputs": [],
   "source": [
    "import cv2 as cv"
   ]
  },
  {
   "cell_type": "markdown",
   "metadata": {},
   "source": [
    "## Processing Images"
   ]
  },
  {
   "cell_type": "code",
   "execution_count": null,
   "metadata": {},
   "outputs": [],
   "source": [
    "opencv_dir = './sample_data/starry_night.jpg'\n",
    "img = cv.imread(cv.samples.findFile(opencv_dir))"
   ]
  },
  {
   "cell_type": "markdown",
   "metadata": {},
   "source": [
    "print the ```img``` variable in the above block. The variable is stored as a matrix."
   ]
  },
  {
   "cell_type": "code",
   "execution_count": null,
   "metadata": {},
   "outputs": [],
   "source": [
    "cv.imshow('disp the image',img)\n",
    "k = cv.waitKey(5)"
   ]
  },
  {
   "cell_type": "markdown",
   "metadata": {},
   "source": [
    "The ```imshow``` displays the image. Note that you have to have a string prior to the img variable. The string is the image title.\n",
    "The k variable let's you choose the period at which the image is displayed (milliseconds)"
   ]
  },
  {
   "cell_type": "code",
   "execution_count": null,
   "metadata": {},
   "outputs": [],
   "source": [
    "cv.destroyAllWindows()"
   ]
  },
  {
   "cell_type": "markdown",
   "metadata": {},
   "source": [
    "```destroyAllWindows()``` method closes all open images."
   ]
  },
  {
   "cell_type": "code",
   "execution_count": null,
   "metadata": {},
   "outputs": [],
   "source": [
    "if k == ord('s'):\n",
    "    cv.imwrite(\"starry_night.png\", img)\n",
    "elif k == ord('q'):\n",
    "    quit()"
   ]
  },
  {
   "cell_type": "markdown",
   "metadata": {},
   "source": [
    "The ```ord()``` method allows the user to hit the 's' key on the keyborad to save the image."
   ]
  },
  {
   "cell_type": "markdown",
   "metadata": {},
   "source": [
    "## Processing Videos"
   ]
  },
  {
   "cell_type": "markdown",
   "metadata": {},
   "source": [
    "To capture a video from a camera installed on your device, we create an object \"cap\" of the ```VideoCapture``` class.\n",
    "The \"0\" is the number of the camera isntalled. So if I have more than one camera installed, I could create multiple object wherein each object has an enumerator.\n",
    "For example:\n",
    "\n",
    "cv.VideoCapture(1)\n",
    "cv.VideoCapture(2)\n",
    "..\n",
    ".. so on\n",
    "\n",
    "NOTE: Running the following code won't work because currently I don't have any camera installed. Therefore, the code block is commented out."
   ]
  },
  {
   "cell_type": "code",
   "execution_count": null,
   "metadata": {},
   "outputs": [],
   "source": [
    "#cap = cv.VideoCapture(0)\n"
   ]
  },
  {
   "cell_type": "markdown",
   "metadata": {},
   "source": [
    "So instead, we're going to download a sample video and proccess it here."
   ]
  },
  {
   "cell_type": "code",
   "execution_count": null,
   "metadata": {},
   "outputs": [],
   "source": [
    "# import pafy\n",
    "# import youtube_dl"
   ]
  },
  {
   "cell_type": "markdown",
   "metadata": {},
   "source": [
    "Capture the downloaded video:"
   ]
  },
  {
   "cell_type": "code",
   "execution_count": null,
   "metadata": {},
   "outputs": [],
   "source": [
    "capture = cv.VideoCapture(\"./sample_video.mp4\")"
   ]
  },
  {
   "cell_type": "markdown",
   "metadata": {},
   "source": [
    "Open the video, convert it to different color scale (gray scale), and display it (release). As the video is completed, the ```ret``` variable changes to false, so we can exit the infinte loop.\n",
    "\n",
    "Change permission variable to True if you want to see the video.\n"
   ]
  },
  {
   "cell_type": "code",
   "execution_count": null,
   "metadata": {},
   "outputs": [],
   "source": [
    "permission = False\n",
    "if permission == 'True':\n",
    "    while capture.isOpened():\n",
    "        ret, frame = capture.read()\n",
    "        \n",
    "        if not ret:\n",
    "            print(\"Can't receive stream. Existing!\")\n",
    "            break\n",
    "        gray = cv.cvtColor(frame, cv.COLOR_BGR2GRAY)\n",
    "        \n",
    "        cv.imshow('frame', gray) # process the video frame by frame.\n",
    "        if cv.waitKey(25) == ord('q'):\n",
    "            break\n",
    "    capture.release() # display the video.\n",
    "    cv.destroyAllWindows()"
   ]
  },
  {
   "cell_type": "markdown",
   "metadata": {},
   "source": [
    "# Draw Shapes with OpenCV\n",
    "### Draw a Line:"
   ]
  },
  {
   "cell_type": "markdown",
   "metadata": {},
   "source": [
    "- Create a black image"
   ]
  },
  {
   "cell_type": "code",
   "execution_count": 2,
   "metadata": {},
   "outputs": [],
   "source": [
    "import numpy as np\n",
    "import cv2 as cv\n",
    "# Create a black image:\n",
    "\n",
    "img = np.zeros((512,512,3), np.uint8)"
   ]
  },
  {
   "cell_type": "markdown",
   "metadata": {},
   "source": [
    "- Draw a diagonal blue line woth thinckness of 5 px. To draw the line, do the following:\n",
    "    - Pass the starting point coordinates. That is, the top-left corner (0,0)\n",
    "    - Pass the end point coordinates. That is, the bottom-right corner (511,511)\n",
    "    - The color blue is represented by (255,0,0). Any greyscale color is represented by a scalar value"
   ]
  },
  {
   "cell_type": "code",
   "execution_count": null,
   "metadata": {},
   "outputs": [],
   "source": [
    "cv.line(img,(0,0),(511,511),(255,0,0), 5)"
   ]
  },
  {
   "cell_type": "code",
   "execution_count": null,
   "metadata": {},
   "outputs": [],
   "source": [
    "def show_img(img):\n",
    "    cv.imshow('image with line ', img)\n",
    "    cv.waitKey(0)\n",
    "    cv.destroyAllWindows()\n",
    "    cv.waitKey(1)"
   ]
  },
  {
   "cell_type": "markdown",
   "metadata": {},
   "source": [
    "### Draw a Rectangle:"
   ]
  },
  {
   "cell_type": "markdown",
   "metadata": {},
   "source": [
    "To draw a rectangle:\n",
    "- top-left corner of the rectangle (384,0)\n",
    "    - Note that the x part of the first coordinates is 384. This is the end point\n",
    "    of the rectangle from the right corner to the left.\n",
    "- bottom-right corner of the rectange (510,128) = pt2\n",
    "    - The bottom corner, however, starts at x = 510. The y coordinate goes down to 128.\n",
    "\n",
    "Either way, keep in mind that these are x,y coordinates. Sometimes the x-axis has to stay constant as you expand the rectangle\n",
    "down on the y-axis and vice-versa."
   ]
  },
  {
   "cell_type": "code",
   "execution_count": null,
   "metadata": {},
   "outputs": [],
   "source": [
    "cv.rectangle(img,pt1=(300,0),pt2=(510,128),color=(0,255,0),thickness=3)\n",
    "show_img(img)"
   ]
  },
  {
   "cell_type": "markdown",
   "metadata": {},
   "source": [
    "### Write a text to an image:\n",
    "- Parameters\n",
    "    - img\tImage.\n",
    "    - text\tText string to be drawn.\n",
    "    - org\tBottom-left corner of the text string in the image.\n",
    "    - fontFace\tFont type, see HersheyFonts.\n",
    "    - fontScale\tFont scale factor that is multiplied by the font-specific base size.\n",
    "    - color\tText color.\n",
    "    - thickness\tThickness of the lines used to draw a text.\n",
    "    - lineType\tLine type. See LineTypes\n",
    "    - bottomLeftOrigin\tWhen true, the image data origin is at the bottom-left corner. Otherwise, it is at the top-left corner."
   ]
  },
  {
   "cell_type": "code",
   "execution_count": 3,
   "metadata": {},
   "outputs": [],
   "source": [
    "font = cv.FONT_HERSHEY_SCRIPT_SIMPLEX"
   ]
  }
 ],
 "metadata": {
  "kernelspec": {
   "display_name": "Python 3.9.6 64-bit",
   "language": "python",
   "name": "python3"
  },
  "language_info": {
   "codemirror_mode": {
    "name": "ipython",
    "version": 3
   },
   "file_extension": ".py",
   "mimetype": "text/x-python",
   "name": "python",
   "nbconvert_exporter": "python",
   "pygments_lexer": "ipython3",
   "version": "3.9.6"
  },
  "vscode": {
   "interpreter": {
    "hash": "31f2aee4e71d21fbe5cf8b01ff0e069b9275f58929596ceb00d14d90e3e16cd6"
   }
  }
 },
 "nbformat": 4,
 "nbformat_minor": 2
}
