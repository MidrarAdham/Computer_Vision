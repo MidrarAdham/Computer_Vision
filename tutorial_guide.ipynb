{
 "cells": [
  {
   "cell_type": "code",
   "execution_count": 78,
   "metadata": {},
   "outputs": [],
   "source": [
    "import cv2 as cv"
   ]
  },
  {
   "cell_type": "markdown",
   "metadata": {},
   "source": [
    "## Processing Images"
   ]
  },
  {
   "cell_type": "code",
   "execution_count": 79,
   "metadata": {},
   "outputs": [],
   "source": [
    "opencv_dir = '/home/powerlab/opencv/samples/data/starry_night.jpg'\n",
    "img = cv.imread(cv.samples.findFile(opencv_dir))"
   ]
  },
  {
   "cell_type": "markdown",
   "metadata": {},
   "source": [
    "print the ```img``` variable in the above block. The variable is stored as a matrix."
   ]
  },
  {
   "cell_type": "code",
   "execution_count": 80,
   "metadata": {},
   "outputs": [],
   "source": [
    "cv.imshow('disp the image',img)\n",
    "k = cv.waitKey(5)"
   ]
  },
  {
   "cell_type": "markdown",
   "metadata": {},
   "source": [
    "The ```imshow``` displays the image. Note that you have to have a string prior to the img variable. The string is the image title.\n",
    "The k variable let's you choose the period at which the image is displayed (milliseconds)"
   ]
  },
  {
   "cell_type": "code",
   "execution_count": 81,
   "metadata": {},
   "outputs": [],
   "source": [
    "cv.destroyAllWindows()"
   ]
  },
  {
   "cell_type": "markdown",
   "metadata": {},
   "source": [
    "```destroyAllWindows()``` method closes all open images."
   ]
  },
  {
   "cell_type": "code",
   "execution_count": 82,
   "metadata": {},
   "outputs": [],
   "source": [
    "if k == ord('s'):\n",
    "    cv.imwrite(\"starry_night.png\", img)"
   ]
  },
  {
   "cell_type": "markdown",
   "metadata": {},
   "source": [
    "The ```ord()``` method allows the user to hit the 's' key on the keyborad to save the image."
   ]
  },
  {
   "cell_type": "markdown",
   "metadata": {},
   "source": [
    "## Processing Videos"
   ]
  },
  {
   "cell_type": "markdown",
   "metadata": {},
   "source": [
    "To capture a video from a camera installed on your device, we create an object \"cap\" of the ```VideoCapture``` class.\n",
    "The \"0\" is the number of the camera isntalled. So if I have more than one camera installed, I could create multiple object wherein each object has an enumerator.\n",
    "For example:\n",
    "\n",
    "cv.VideoCapture(1)\n",
    "cv.VideoCapture(2)\n",
    "..\n",
    ".. so on\n",
    "\n",
    "NOTE: Running the following code won't work because currently I don't have any camera installed. Therefore, the code block is commented out."
   ]
  },
  {
   "cell_type": "code",
   "execution_count": 83,
   "metadata": {},
   "outputs": [],
   "source": [
    "#cap = cv.VideoCapture(0)\n"
   ]
  },
  {
   "cell_type": "markdown",
   "metadata": {},
   "source": [
    "So instead, we're going to download a sample video and proccess it here."
   ]
  },
  {
   "cell_type": "code",
   "execution_count": 84,
   "metadata": {},
   "outputs": [],
   "source": [
    "# import pafy\n",
    "# import youtube_dl"
   ]
  },
  {
   "cell_type": "markdown",
   "metadata": {},
   "source": [
    "Capture the downloaded video:"
   ]
  },
  {
   "cell_type": "code",
   "execution_count": 85,
   "metadata": {},
   "outputs": [],
   "source": [
    "capture = cv.VideoCapture(\"./sample_video.mp4\")"
   ]
  },
  {
   "cell_type": "markdown",
   "metadata": {},
   "source": [
    "Open the video, convert it to different color scale (gray scale), and display it (release). As the video is completed, the ```ret``` variable changes to false, so we can exit the infinte loop."
   ]
  },
  {
   "cell_type": "code",
   "execution_count": 86,
   "metadata": {},
   "outputs": [
    {
     "name": "stdout",
     "output_type": "stream",
     "text": [
      "Can't receive stream. Existing!\n"
     ]
    }
   ],
   "source": [
    "while capture.isOpened():\n",
    "    ret, frame = capture.read()\n",
    "    \n",
    "    if not ret:\n",
    "        print(\"Can't receive stream. Existing!\")\n",
    "        break\n",
    "    gray = cv.cvtColor(frame, cv.COLOR_BGR2GRAY)\n",
    "    \n",
    "    cv.imshow('frame', gray) # process the video frame by frame.\n",
    "    if cv.waitKey(25) == ord('q'):\n",
    "        break\n",
    "capture.release() # displayt the video.\n",
    "cv.destroyAllWindows()"
   ]
  }
 ],
 "metadata": {
  "kernelspec": {
   "display_name": "Python 3",
   "language": "python",
   "name": "python3"
  },
  "language_info": {
   "codemirror_mode": {
    "name": "ipython",
    "version": 3
   },
   "file_extension": ".py",
   "mimetype": "text/x-python",
   "name": "python",
   "nbconvert_exporter": "python",
   "pygments_lexer": "ipython3",
   "version": "3.8.10"
  }
 },
 "nbformat": 4,
 "nbformat_minor": 2
}
